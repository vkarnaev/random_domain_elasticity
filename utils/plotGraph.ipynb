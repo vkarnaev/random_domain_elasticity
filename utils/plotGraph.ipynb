{
 "cells": [
  {
   "cell_type": "code",
   "execution_count": 56,
   "metadata": {},
   "outputs": [],
   "source": [
    "import numpy as np\n",
    "import matplotlib.pyplot as plt"
   ]
  },
  {
   "cell_type": "code",
   "execution_count": 57,
   "metadata": {},
   "outputs": [
    {
     "name": "stdout",
     "output_type": "stream",
     "text": [
      "[[3.61600e+03 5.18968e-02]\n",
      " [1.52960e+04 3.37330e-02]\n",
      " [5.08160e+04 2.60333e-02]\n",
      " [2.02240e+05 2.01415e-02]\n",
      " [7.77216e+05 1.25640e-02]\n",
      " [3.11910e+06 8.32513e-03]\n",
      " [1.20689e+07 5.42037e-03]\n",
      " [4.84147e+07 3.16468e-03]\n",
      " [1.90841e+08 1.64932e-03]]\n"
     ]
    }
   ],
   "source": [
    "#file = \"err_qmc\"\n",
    "file = \"err_tot\"\n",
    "#file = \"err_fem\"\n",
    "err = np.loadtxt(\"../experiments/\"+file+\".txt\", delimiter=' ')\n",
    "print(err)"
   ]
  },
  {
   "cell_type": "code",
   "execution_count": 66,
   "metadata": {},
   "outputs": [
    {
     "name": "stdout",
     "output_type": "stream",
     "text": [
      "[1.66297526e-02 8.08557784e-03 4.43608401e-03 2.22365021e-03\n",
      " 1.13430314e-03 5.66220189e-04 2.87849948e-04 1.43718070e-04\n",
      " 7.23875967e-05]\n"
     ]
    }
   ],
   "source": [
    "cost2 = err[:,0]**(-1/2) \n",
    "print(cost2)"
   ]
  },
  {
   "cell_type": "code",
   "execution_count": 67,
   "metadata": {},
   "outputs": [
    {
     "name": "stdout",
     "output_type": "stream",
     "text": [
      "[0.06515142 0.04028475 0.0269981  0.01703639 0.01087642 0.00684421\n",
      " 0.00435957 0.00274373 0.00173691]\n"
     ]
    }
   ],
   "source": [
    "cost3 = err[:,0]**(-1/3) \n",
    "print(cost3)"
   ]
  },
  {
   "cell_type": "code",
   "execution_count": 68,
   "metadata": {},
   "outputs": [
    {
     "data": {
      "image/png": "[encoded data removed]",
      "text/plain": [
       "<Figure size 432x288 with 1 Axes>"
      ]
     },
     "metadata": {
      "needs_background": "light"
     },
     "output_type": "display_data"
    }
   ],
   "source": [
    "fig, ax = plt.subplots()\n",
    "ax.loglog(err[:,0], err[:,1],'b.')\n",
    "ax.loglog(err[:,0], err[:,1],'b',lw=0.7)\n",
    "ax.loglog(err[:,0], cost2,'r',lw=0.7)\n",
    "ax.loglog(err[:,0], cost3,'g',lw=0.7)\n",
    "ax.set_title('green: -1/3, red: -1/2')\n",
    "\n",
    "ax.set(xlabel=\"Cost\", ylabel='Error')\n",
    "ax.grid()\n",
    "\n",
    "fig.savefig(\"../experiments/\"+file+\".png\",dpi = 400)\n",
    "plt.show()"
   ]
  },
  {
   "cell_type": "code",
   "execution_count": null,
   "metadata": {},
   "outputs": [],
   "source": []
  },
  {
   "cell_type": "code",
   "execution_count": null,
   "metadata": {},
   "outputs": [],
   "source": []
  }
 ],
 "metadata": {
  "kernelspec": {
   "display_name": "Python 3",
   "language": "python",
   "name": "python3"
  },
  "language_info": {
   "codemirror_mode": {
    "name": "ipython",
    "version": 3
   },
   "file_extension": ".py",
   "mimetype": "text/x-python",
   "name": "python",
   "nbconvert_exporter": "python",
   "pygments_lexer": "ipython3",
   "version": "3.8.5"
  },
  "vscode": {
   "interpreter": {
    "hash": "aee8b7b246df8f9039afb4144a1f6fd8d2ca17a180786b69acc140d282b71a49"
   }
  }
 },
 "nbformat": 4,
 "nbformat_minor": 4
}
