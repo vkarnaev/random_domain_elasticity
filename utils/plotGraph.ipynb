{
 "cells": [
  {
   "cell_type": "code",
   "execution_count": 18,
   "metadata": {},
   "outputs": [],
   "source": [
    "import numpy as np\n",
    "import matplotlib.pyplot as plt"
   ]
  },
  {
   "cell_type": "code",
   "execution_count": 19,
   "metadata": {},
   "outputs": [
    {
     "name": "stdout",
     "output_type": "stream",
     "text": [
      "[[8.00000e+00 1.75152e-03]\n",
      " [1.60000e+01 1.18404e-03]\n",
      " [3.20000e+01 6.88318e-04]\n",
      " [6.40000e+01 3.49581e-04]\n",
      " [1.28000e+02 1.78564e-04]\n",
      " [2.56000e+02 1.13914e-04]\n",
      " [5.12000e+02 4.91376e-05]\n",
      " [1.02400e+03 2.38411e-05]\n",
      " [2.04800e+03 1.22234e-05]\n",
      " [4.09600e+03 6.16107e-06]]\n"
     ]
    }
   ],
   "source": [
    "err = np.loadtxt(\"../experiments/levels/err.txt\", delimiter=' ')\n",
    "print(err)"
   ]
  },
  {
   "cell_type": "code",
   "execution_count": 25,
   "metadata": {},
   "outputs": [
    {
     "name": "stdout",
     "output_type": "stream",
     "text": [
      "[1.25000000e-03 6.25000000e-04 3.12500000e-04 1.56250000e-04\n",
      " 7.81250000e-05 3.90625000e-05 1.95312500e-05 9.76562500e-06\n",
      " 4.88281250e-06 2.44140625e-06]\n"
     ]
    }
   ],
   "source": [
    "cost1 = 0.01*err[:,0]**(-1) \n",
    "print(cost1)"
   ]
  },
  {
   "cell_type": "code",
   "execution_count": 36,
   "metadata": {},
   "outputs": [
    {
     "data": {
      "image/png": "[encoded data removed]",
      "text/plain": [
       "<Figure size 432x288 with 1 Axes>"
      ]
     },
     "metadata": {
      "needs_background": "light"
     },
     "output_type": "display_data"
    }
   ],
   "source": [
    "fig, ax = plt.subplots()\n",
    "ax.loglog(err[:,0], err[:,1],'b.')\n",
    "ax.loglog(err[:,0], err[:,1],'b-',lw=0.7)\n",
    "ax.loglog(err[:,0], cost1,'r-.',lw=0.7)\n",
    "\n",
    "ax.set(xlabel=\"Cost\", ylabel='Error')\n",
    "ax.grid()\n",
    "\n",
    "fig.savefig(\"../experiments/pic/err.png\",dpi = 400)\n",
    "plt.show()"
   ]
  },
  {
   "cell_type": "code",
   "execution_count": null,
   "metadata": {},
   "outputs": [],
   "source": []
  },
  {
   "cell_type": "code",
   "execution_count": null,
   "metadata": {},
   "outputs": [],
   "source": []
  }
 ],
 "metadata": {
  "kernelspec": {
   "display_name": "Python 3",
   "language": "python",
   "name": "python3"
  },
  "language_info": {
   "codemirror_mode": {
    "name": "ipython",
    "version": 3
   },
   "file_extension": ".py",
   "mimetype": "text/x-python",
   "name": "python",
   "nbconvert_exporter": "python",
   "pygments_lexer": "ipython3",
   "version": "3.8.5"
  },
  "vscode": {
   "interpreter": {
    "hash": "aee8b7b246df8f9039afb4144a1f6fd8d2ca17a180786b69acc140d282b71a49"
   }
  }
 },
 "nbformat": 4,
 "nbformat_minor": 4
}
