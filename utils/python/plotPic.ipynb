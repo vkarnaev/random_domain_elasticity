{
 "cells": [
  {
   "cell_type": "code",
   "execution_count": 2,
   "metadata": {},
   "outputs": [],
   "source": [
    "import numpy as np\n",
    "import matplotlib.pyplot as plt\n",
    "import math "
   ]
  },
  {
   "cell_type": "code",
   "execution_count": 6,
   "metadata": {},
   "outputs": [],
   "source": [
    "def inclbound(file):\n",
    "    f = open(file, mode='r', encoding='utf8', newline='\\n')\n",
    "    data = []\n",
    "    for i, line in enumerate(f):  \n",
    "        new_line = [float(j) for j in line.strip().split(' ')]\n",
    "        if len(new_line) == 3:\n",
    "            data.append(new_line)\n",
    "        else:\n",
    "            break\n",
    "            \n",
    "    incl = np.array(data)\n",
    "    \n",
    "    incl = incl[np.where(incl[:,-1]==5)]\n",
    "    \n",
    "    for i in range(incl.shape[0]):\n",
    "        incl[i][2] = math.atan2(incl[i][1],incl[i][0])\n",
    "    incl = incl[incl[:,2].argsort()]\n",
    "    \n",
    "    incl = np.vstack([incl, incl[0]])\n",
    "    \n",
    "    return (incl)"
   ]
  },
  {
   "cell_type": "code",
   "execution_count": 37,
   "metadata": {},
   "outputs": [],
   "source": [
    "fincl = \"../experiments/randmeshes/mesh1.msh\"\n",
    "dincl = inclbound(fincl)"
   ]
  },
  {
   "cell_type": "code",
   "execution_count": 38,
   "metadata": {},
   "outputs": [],
   "source": [
    "fincl = \"../experiments/randmeshes/mesh1_1.msh\"\n",
    "rincl1 = inclbound(fincl)"
   ]
  },
  {
   "cell_type": "code",
   "execution_count": 39,
   "metadata": {},
   "outputs": [],
   "source": [
    "fincl = \"../experiments/randmeshes/mesh1_2.msh\"\n",
    "rincl2 = inclbound(fincl)"
   ]
  },
  {
   "cell_type": "code",
   "execution_count": 40,
   "metadata": {},
   "outputs": [],
   "source": [
    "fincl = \"../experiments/randmeshes/mesh1_3.msh\"\n",
    "rincl3 = inclbound(fincl)"
   ]
  },
  {
   "cell_type": "code",
   "execution_count": 41,
   "metadata": {},
   "outputs": [],
   "source": [
    "fincl = \"../experiments/randmeshes/mesh1_4.msh\"\n",
    "rincl4 = inclbound(fincl)"
   ]
  },
  {
   "cell_type": "code",
   "execution_count": 42,
   "metadata": {},
   "outputs": [],
   "source": [
    "fincl = \"../experiments/randmeshes/mesh1_5.msh\"\n",
    "rincl5 = inclbound(fincl)"
   ]
  },
  {
   "cell_type": "code",
   "execution_count": 43,
   "metadata": {},
   "outputs": [],
   "source": [
    "fincl = \"../experiments/randmeshes/mesh1_6.msh\"\n",
    "rincl6 = inclbound(fincl)"
   ]
  },
  {
   "cell_type": "code",
   "execution_count": 44,
   "metadata": {},
   "outputs": [],
   "source": [
    "fincl = \"../experiments/randmeshes/mesh1_7.msh\"\n",
    "rincl7 = inclbound(fincl)"
   ]
  },
  {
   "cell_type": "code",
   "execution_count": 47,
   "metadata": {},
   "outputs": [],
   "source": [
    "fincl = \"../experiments/randmeshes/mesh1_8.msh\"\n",
    "rincl8 = inclbound(fincl)"
   ]
  },
  {
   "cell_type": "code",
   "execution_count": 48,
   "metadata": {},
   "outputs": [],
   "source": [
    "fincl = \"../experiments/randmeshes/mesh1_9.msh\"\n",
    "rincl9 = inclbound(fincl)"
   ]
  },
  {
   "cell_type": "code",
   "execution_count": 49,
   "metadata": {},
   "outputs": [],
   "source": [
    "fincl = \"../experiments/randmeshes/mesh1_10.msh\"\n",
    "rincl10 = inclbound(fincl)"
   ]
  },
  {
   "cell_type": "code",
   "execution_count": 50,
   "metadata": {},
   "outputs": [],
   "source": [
    "body = np.array([\n",
    "    [-1,-1],\n",
    "    [1,-1],\n",
    "    [1,1],\n",
    "    [-1,1],\n",
    "    [-1,-1]\n",
    "])"
   ]
  },
  {
   "cell_type": "code",
   "execution_count": 55,
   "metadata": {},
   "outputs": [
    {
     "data": {
      "image/png": "[encoded data removed]",
      "text/plain": [
       "<Figure size 432x288 with 1 Axes>"
      ]
     },
     "metadata": {
      "needs_background": "light"
     },
     "output_type": "display_data"
    }
   ],
   "source": [
    "fig, ax = plt.subplots()\n",
    "width = 0.7 \n",
    "style = 'b--'\n",
    "ax.plot(body[:,0], body[:,1],'gray')\n",
    "ax.plot(rincl1[:,0], rincl1[:,1],style, lw = width)\n",
    "#ax.plot(rincl2[:,0], rincl2[:,1],style,lw = width)\n",
    "ax.plot(rincl3[:,0], rincl3[:,1],style,lw = width)\n",
    "#ax.plot(rincl4[:,0], rincl4[:,1],style,lw = width)\n",
    "ax.plot(rincl5[:,0], rincl5[:,1],style,lw = width)\n",
    "#ax.plot(rincl6[:,0], rincl6[:,1],style, lw = width)\n",
    "ax.plot(rincl7[:,0], rincl7[:,1],style,lw = width)\n",
    "#ax.plot(rincl8[:,0], rincl8[:,1],style,lw = width)\n",
    "ax.plot(rincl9[:,0], rincl9[:,1],style, lw = width)\n",
    "#ax.plot(rincl10[:,0], rincl10[:,1],style,lw = width)\n",
    "ax.plot(dincl[:,0], dincl[:,1],'red', lw = 1.4)\n",
    "ax.get_xaxis().set_visible(True)\n",
    "ax.get_yaxis().set_visible(True)\n",
    "plt.gca().set_frame_on(False)\n",
    "ax.set_aspect('equal', adjustable='box')\n",
    "fig.savefig(\"../experiments/pic/randdom.png\",dpi = 400)\n",
    "plt.show()"
   ]
  },
  {
   "cell_type": "code",
   "execution_count": 56,
   "metadata": {},
   "outputs": [
    {
     "data": {
      "image/png": "[encoded data removed]",
      "text/plain": [
       "<Figure size 432x288 with 1 Axes>"
      ]
     },
     "metadata": {
      "needs_background": "light"
     },
     "output_type": "display_data"
    }
   ],
   "source": [
    "fig, ax = plt.subplots()\n",
    "ax.plot(body[:,0], body[:,1],'gray')\n",
    "ax.plot(dincl[:,0], dincl[:,1],'tomato', lw = 1.4)\n",
    "ax.get_xaxis().set_visible(True)\n",
    "ax.get_yaxis().set_visible(True)\n",
    "plt.gca().set_frame_on(False)\n",
    "ax.set_aspect('equal', adjustable='box')\n",
    "fig.savefig(\"../experiments/pic/refdom.png\",dpi = 400)\n",
    "plt.show()"
   ]
  },
  {
   "cell_type": "code",
   "execution_count": 3,
   "metadata": {},
   "outputs": [],
   "source": [
    "def bodybound(file):\n",
    "    f = open(file, mode='r', encoding='utf8', newline='\\n')\n",
    "    data = []\n",
    "    for i, line in enumerate(f):  \n",
    "        new_line = [float(j) for j in line.strip().split(' ')]\n",
    "        if len(new_line) == 3:\n",
    "            data.append(new_line)\n",
    "        else:\n",
    "            break\n",
    "            \n",
    "    body = np.array(data)\n",
    "    \n",
    "    body1 = body[np.where(body[:,-1]==1)]\n",
    "    body2 = body[np.where(body[:,-1]==2)]\n",
    "    body3 = body[np.where(body[:,-1]==3)]\n",
    "    body4 = body[np.where(body[:,-1]==4)]\n",
    "    \n",
    "    body = np.concatenate((body1, body2), axis=0)\n",
    "    body = np.concatenate((body, body3), axis=0)\n",
    "    body = np.concatenate((body, body4), axis=0)\n",
    "    \n",
    "    for i in range(body.shape[0]):\n",
    "        body[i][2] = math.atan2(body[i][1],body[i][0])\n",
    "    body = body[body[:,2].argsort()]\n",
    "    \n",
    "    body = np.vstack([body, body[0]])\n",
    "    \n",
    "    return (body)"
   ]
  },
  {
   "cell_type": "code",
   "execution_count": 4,
   "metadata": {},
   "outputs": [],
   "source": [
    "fbody = \"../exp/mesh0_10k.msh\"\n",
    "dbody = bodybound(fbody)"
   ]
  },
  {
   "cell_type": "code",
   "execution_count": 7,
   "metadata": {},
   "outputs": [],
   "source": [
    "fincl = \"../exp/mesh1_10k.msh\"\n",
    "dincl = inclbound(fincl)"
   ]
  },
  {
   "cell_type": "code",
   "execution_count": 8,
   "metadata": {},
   "outputs": [
    {
     "data": {
      "image/png": "[encoded data removed]",
      "text/plain": [
       "<Figure size 432x288 with 1 Axes>"
      ]
     },
     "metadata": {
      "needs_background": "light"
     },
     "output_type": "display_data"
    }
   ],
   "source": [
    "fig, ax = plt.subplots()\n",
    "ax.plot(dbody[:,0], dbody[:,1],'gray')\n",
    "ax.plot(dincl[:,0], dincl[:,1],'tomato', lw = 1.4)\n",
    "plt.gca().set_frame_on(False)\n",
    "ax.get_xaxis().set_visible(True)\n",
    "ax.get_yaxis().set_visible(True)\n",
    "ax.set_aspect('equal', adjustable='box')\n",
    "fig.savefig(\"../experiments/pic/detdefdom.png\",dpi = 400)\n",
    "plt.show()"
   ]
  },
  {
   "cell_type": "code",
   "execution_count": null,
   "metadata": {},
   "outputs": [],
   "source": []
  }
 ],
 "metadata": {
  "kernelspec": {
   "display_name": "Python 3",
   "language": "python",
   "name": "python3"
  },
  "language_info": {
   "codemirror_mode": {
    "name": "ipython",
    "version": 3
   },
   "file_extension": ".py",
   "mimetype": "text/x-python",
   "name": "python",
   "nbconvert_exporter": "python",
   "pygments_lexer": "ipython3",
   "version": "3.8.5"
  }
 },
 "nbformat": 4,
 "nbformat_minor": 4
}
