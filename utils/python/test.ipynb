{
 "cells": [
  {
   "cell_type": "code",
   "execution_count": 105,
   "metadata": {},
   "outputs": [],
   "source": [
    "import numpy as np\n",
    "import matplotlib.pyplot as plt\n",
    "import math"
   ]
  },
  {
   "cell_type": "code",
   "execution_count": 106,
   "metadata": {},
   "outputs": [],
   "source": [
    "al2_points_2 = np.loadtxt(\"../points/points_iplr2_l2.txt\")\n",
    "al2_points_4 = np.loadtxt(\"../points/points_iplr2_l4.txt\")\n",
    "al2_points_6 = np.loadtxt(\"../points/points_iplr2_l6.txt\")\n",
    "al2_points_8 = np.loadtxt(\"../points/points_iplr2_l8.txt\")\n",
    "al2_points_10 = np.loadtxt(\"../points/points_iplr2_l10.txt\")"
   ]
  },
  {
   "cell_type": "code",
   "execution_count": 151,
   "metadata": {},
   "outputs": [],
   "source": [
    "def test (x,s):\n",
    "    f = 1.0\n",
    "    t = 0.000001\n",
    "    #s = len(x)\n",
    "    for i in range(s):\n",
    "        #f *= (1 - (x[i]-0.5)/((i+1)**6))\n",
    "        f *= (1- (x[i]-0.5) * t* math.exp(-0.1*i))\n",
    "        #f *= (1- (x[i]-0.5) * math.exp(-4.*i))\n",
    "    return f"
   ]
  },
  {
   "cell_type": "code",
   "execution_count": 152,
   "metadata": {},
   "outputs": [],
   "source": [
    "def error(points, s):\n",
    "    exp = 0.0\n",
    "    err = 0\n",
    "    for i in range(len(points)):\n",
    "        exp += test(points[i,:], s)\n",
    "    exp /= len(points)\n",
    "    return abs(exp - 1.)"
   ]
  },
  {
   "cell_type": "code",
   "execution_count": 153,
   "metadata": {},
   "outputs": [],
   "source": [
    "s=100\n",
    "\n",
    "al2_err2 = error(al2_points_2,s)\n",
    "al2_err4 = error(al2_points_4,s)\n",
    "al2_err6 = error(al2_points_6,s)\n",
    "al2_err8 = error(al2_points_8,s)\n",
    "al2_err10 = error(al2_points_10,s)\n",
    "\n",
    "al2_err = np.array([al2_err2, al2_err4, al2_err6, al2_err8, al2_err10])\n",
    "\n",
    "num = np.array([2.**2, 2.**4, 2.**6, 2.**8, 2.**10])\n",
    "\n",
    "c=0.01\n",
    "\n",
    "rate_d2 =  c*num**(-2)\n",
    "rate_d3 =  0.1*c*num**(-3)"
   ]
  },
  {
   "cell_type": "code",
   "execution_count": 154,
   "metadata": {},
   "outputs": [
    {
     "data": {
      "image/png": "[encoded data removed]",
      "text/plain": [
       "<Figure size 432x288 with 1 Axes>"
      ]
     },
     "metadata": {
      "needs_background": "light"
     },
     "output_type": "display_data"
    }
   ],
   "source": [
    "fig, ax = plt.subplots()\n",
    "\n",
    "ax.loglog(num, al2_err,'r.-')\n",
    "ax.loglog(num, rate_d2,'k-.',lw=0.7)\n",
    "ax.loglog(num, rate_d3,'k-.',lw=0.7)\n",
    "\n",
    "ax.grid()\n",
    "\n",
    "plt.show()"
   ]
  },
  {
   "cell_type": "code",
   "execution_count": null,
   "metadata": {},
   "outputs": [],
   "source": []
  },
  {
   "cell_type": "code",
   "execution_count": null,
   "metadata": {},
   "outputs": [],
   "source": []
  }
 ],
 "metadata": {
  "kernelspec": {
   "display_name": "Python 3",
   "language": "python",
   "name": "python3"
  },
  "language_info": {
   "codemirror_mode": {
    "name": "ipython",
    "version": 3
   },
   "file_extension": ".py",
   "mimetype": "text/x-python",
   "name": "python",
   "nbconvert_exporter": "python",
   "pygments_lexer": "ipython3",
   "version": "3.8.5"
  }
 },
 "nbformat": 4,
 "nbformat_minor": 4
}
