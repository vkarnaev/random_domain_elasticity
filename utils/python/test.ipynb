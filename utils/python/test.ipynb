{
 "cells": [
  {
   "cell_type": "code",
   "execution_count": 1,
   "metadata": {},
   "outputs": [],
   "source": [
    "import numpy as np\n",
    "import matplotlib.pyplot as plt\n",
    "import math"
   ]
  },
  {
   "cell_type": "code",
   "execution_count": 47,
   "metadata": {},
   "outputs": [],
   "source": [
    "points_2 = np.loadtxt(\"../points/points_sobol2_l2.txt\")\n",
    "points_4 = np.loadtxt(\"../points/points_sobol2_l4.txt\")\n",
    "points_6 = np.loadtxt(\"../points/points_sobol2_l6.txt\")\n",
    "points_8 = np.loadtxt(\"../points/points_sobol2_l8.txt\")\n",
    "points_10 = np.loadtxt(\"../points/points_sobol2_l10.txt\")\n",
    "\n",
    "halton_points_2 = np.loadtxt(\"../points/halton_points_l2.txt\")\n",
    "halton_points_4 = np.loadtxt(\"../points/halton_points_l4.txt\")\n",
    "halton_points_6 = np.loadtxt(\"../points/halton_points_l6.txt\")\n",
    "halton_points_8 = np.loadtxt(\"../points/halton_points_l8.txt\")\n",
    "halton_points_10 = np.loadtxt(\"../points/halton_points_l10.txt\")"
   ]
  },
  {
   "cell_type": "code",
   "execution_count": 60,
   "metadata": {},
   "outputs": [],
   "source": [
    "def test (x,s):\n",
    "    f = 1.0\n",
    "    #s = len(x)\n",
    "    for i in range(s):\n",
    "        f *= (1 - 0.1*(x[i]-0.5)/((i+1)**2))\n",
    "        #f *= (1- (x[i]-0.5) * math.exp(-0.16*i))\n",
    "    return f"
   ]
  },
  {
   "cell_type": "code",
   "execution_count": 61,
   "metadata": {},
   "outputs": [],
   "source": [
    "def error(points, s):\n",
    "    exp = 0.0\n",
    "    err = 0\n",
    "    for i in range(len(points)):\n",
    "        exp += test(points[i,:], s)\n",
    "    exp /= len(points)\n",
    "    return abs(exp - 1.)"
   ]
  },
  {
   "cell_type": "code",
   "execution_count": 62,
   "metadata": {},
   "outputs": [],
   "source": [
    "s=100\n",
    "\n",
    "err2 = error(points_2,s)\n",
    "err4 = error(points_4,s)\n",
    "err6 = error(points_6,s)\n",
    "err8 = error(points_8,s)\n",
    "err10 = error(points_10,s)\n",
    "\n",
    "halton_err2 = error(halton_points_2,s)\n",
    "halton_err4 = error(halton_points_4,s)\n",
    "halton_err6 = error(halton_points_6,s)\n",
    "halton_err8 = error(halton_points_8,s)\n",
    "halton_err10 = error(halton_points_10,s)\n",
    "\n",
    "err = np.array([err2, err4, err6, err8, err10])\n",
    "\n",
    "halton_err = np.array([halton_err2, halton_err4, halton_err6, halton_err8, halton_err10])\n",
    "\n",
    "num = np.array([2.**2, 2.**4, 2.**6, 2.**8, 2.**10])\n",
    "\n",
    "c=0.01\n",
    "\n",
    "rate_d1 =  c*num**(-1)\n",
    "rate_d2 =  c*num**(-2)"
   ]
  },
  {
   "cell_type": "code",
   "execution_count": 63,
   "metadata": {},
   "outputs": [
    {
     "data": {
      "image/png": "[encoded data removed]",
      "text/plain": [
       "<Figure size 432x288 with 1 Axes>"
      ]
     },
     "metadata": {
      "needs_background": "light"
     },
     "output_type": "display_data"
    }
   ],
   "source": [
    "fig, ax = plt.subplots()\n",
    "\n",
    "ax.loglog(num, err,'r.')\n",
    "ax.loglog(num, err,'r-')\n",
    "ax.loglog(num, halton_err,'b.')\n",
    "ax.loglog(num, halton_err,'b-')\n",
    "ax.loglog(num, rate_d1,'k-.',lw=0.7)\n",
    "ax.loglog(num, rate_d2,'k-.',lw=0.7)\n",
    "\n",
    "ax.grid()\n",
    "\n",
    "plt.show()"
   ]
  },
  {
   "cell_type": "code",
   "execution_count": null,
   "metadata": {},
   "outputs": [],
   "source": []
  },
  {
   "cell_type": "code",
   "execution_count": null,
   "metadata": {},
   "outputs": [],
   "source": []
  }
 ],
 "metadata": {
  "kernelspec": {
   "display_name": "Python 3",
   "language": "python",
   "name": "python3"
  },
  "language_info": {
   "codemirror_mode": {
    "name": "ipython",
    "version": 3
   },
   "file_extension": ".py",
   "mimetype": "text/x-python",
   "name": "python",
   "nbconvert_exporter": "python",
   "pygments_lexer": "ipython3",
   "version": "3.8.5"
  }
 },
 "nbformat": 4,
 "nbformat_minor": 4
}
