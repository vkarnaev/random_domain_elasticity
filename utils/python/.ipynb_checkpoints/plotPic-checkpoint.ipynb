{
 "cells": [
  {
   "cell_type": "code",
   "execution_count": 1,
   "metadata": {},
   "outputs": [],
   "source": [
    "import numpy as np\n",
    "import matplotlib.pyplot as plt\n",
    "import math "
   ]
  },
  {
   "cell_type": "code",
   "execution_count": 2,
   "metadata": {},
   "outputs": [],
   "source": [
    "def inclbound(file):\n",
    "    f = open(file, mode='r', encoding='utf8', newline='\\n')\n",
    "    data = []\n",
    "    for i, line in enumerate(f):  \n",
    "        new_line = [float(j) for j in line.strip().split(' ')]\n",
    "        if len(new_line) == 3:\n",
    "            data.append(new_line)\n",
    "        else:\n",
    "            break\n",
    "            \n",
    "    incl = np.array(data)\n",
    "    \n",
    "    incl = incl[np.where(incl[:,-1]==5)]\n",
    "    \n",
    "    for i in range(incl.shape[0]):\n",
    "        incl[i][2] = math.atan2(incl[i][1],incl[i][0])\n",
    "    incl = incl[incl[:,2].argsort()]\n",
    "    \n",
    "    incl = np.vstack([incl, incl[0]])\n",
    "    \n",
    "    return (incl)"
   ]
  },
  {
   "cell_type": "code",
   "execution_count": 3,
   "metadata": {},
   "outputs": [],
   "source": [
    "fincl = \"../storage/meshes/det/mesh1.msh\"\n",
    "dincl = inclbound(fincl)"
   ]
  },
  {
   "cell_type": "code",
   "execution_count": 4,
   "metadata": {},
   "outputs": [],
   "source": [
    "fincl = \"../storage/meshes/rand/mesh1/mesh1_1.msh\"\n",
    "rincl1 = inclbound(fincl)"
   ]
  },
  {
   "cell_type": "code",
   "execution_count": 5,
   "metadata": {},
   "outputs": [],
   "source": [
    "fincl = \"../storage/meshes/rand/mesh1/mesh1_10.msh\"\n",
    "rincl2 = inclbound(fincl)"
   ]
  },
  {
   "cell_type": "code",
   "execution_count": 6,
   "metadata": {},
   "outputs": [],
   "source": [
    "fincl = \"../storage/meshes/rand/mesh1/mesh1_15.msh\"\n",
    "rincl3 = inclbound(fincl)"
   ]
  },
  {
   "cell_type": "code",
   "execution_count": 7,
   "metadata": {},
   "outputs": [],
   "source": [
    "fincl = \"../storage/meshes/rand/mesh1/mesh1_20.msh\"\n",
    "rincl4 = inclbound(fincl)"
   ]
  },
  {
   "cell_type": "code",
   "execution_count": 14,
   "metadata": {},
   "outputs": [],
   "source": [
    "fincl = \"../storage/meshes/rand/mesh1/mesh1_30.msh\"\n",
    "rincl5 = inclbound(fincl)"
   ]
  },
  {
   "cell_type": "code",
   "execution_count": 15,
   "metadata": {},
   "outputs": [],
   "source": [
    "body = np.array([\n",
    "    [-1,-1],\n",
    "    [1,-1],\n",
    "    [1,1],\n",
    "    [-1,1],\n",
    "    [-1,-1]\n",
    "])"
   ]
  },
  {
   "cell_type": "code",
   "execution_count": 25,
   "metadata": {},
   "outputs": [
    {
     "data": {
      "image/png": "[encoded data removed]",
      "text/plain": [
       "<Figure size 432x288 with 1 Axes>"
      ]
     },
     "metadata": {
      "needs_background": "light"
     },
     "output_type": "display_data"
    }
   ],
   "source": [
    "fig, ax = plt.subplots()\n",
    "width = 0.7 \n",
    "style = 'b-'\n",
    "ax.plot(rincl1[:,0], rincl1[:,1],style, lw = width)\n",
    "ax.plot(rincl2[:,0], rincl2[:,1],style,lw = width)\n",
    "ax.plot(rincl3[:,0], rincl3[:,1],style,lw = width)\n",
    "ax.plot(rincl4[:,0], rincl4[:,1],style,lw = width)\n",
    "ax.plot(rincl5[:,0], rincl5[:,1],style,lw = width)\n",
    "#ax.plot(dincl[:,0], dincl[:,1],'r')\n",
    "ax.plot(body[:,0], body[:,1],'g')\n",
    "ax.get_xaxis().set_visible(False)\n",
    "ax.get_yaxis().set_visible(False)\n",
    "ax.axis('equal')\n",
    "fig.savefig(\"../experiments/randdom.png\",dpi = 400)\n",
    "plt.show()"
   ]
  },
  {
   "cell_type": "code",
   "execution_count": null,
   "metadata": {},
   "outputs": [],
   "source": []
  }
 ],
 "metadata": {
  "kernelspec": {
   "display_name": "Python 3",
   "language": "python",
   "name": "python3"
  },
  "language_info": {
   "codemirror_mode": {
    "name": "ipython",
    "version": 3
   },
   "file_extension": ".py",
   "mimetype": "text/x-python",
   "name": "python",
   "nbconvert_exporter": "python",
   "pygments_lexer": "ipython3",
   "version": "3.8.5"
  }
 },
 "nbformat": 4,
 "nbformat_minor": 4
}
