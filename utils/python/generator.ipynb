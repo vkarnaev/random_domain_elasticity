{
 "cells": [
  {
   "cell_type": "code",
   "execution_count": 35,
   "metadata": {},
   "outputs": [],
   "source": [
    "import numpy as np\n",
    "import math"
   ]
  },
  {
   "cell_type": "code",
   "execution_count": 36,
   "metadata": {},
   "outputs": [],
   "source": [
    "for l in range(1,12):\n",
    "    m = 8*2**(l-1)\n",
    "    a = np.zeros(m)\n",
    "    for i in range(m): a[i] = m**(-1)\n",
    "    file = \"uniform_weights_l\"+str(l)+\".txt\"\n",
    "    #np.savetxt(file, a, delimiter='/n')"
   ]
  },
  {
   "cell_type": "code",
   "execution_count": 37,
   "metadata": {},
   "outputs": [],
   "source": [
    "def prime_generator(m):\n",
    "    count = 2\n",
    "    \n",
    "    a = np.zeros((m))\n",
    "    \n",
    "    j=0\n",
    "    \n",
    "    while j<m:\n",
    "        isprime = True\n",
    "\n",
    "        for x in range(2, int(math.sqrt(count) + 1)):\n",
    "            if count % x == 0: \n",
    "                isprime = False\n",
    "                break\n",
    "\n",
    "        if isprime:\n",
    "            a[j] = count\n",
    "            j+=1\n",
    "\n",
    "        count += 1\n",
    "        \n",
    "    return a"
   ]
  },
  {
   "cell_type": "code",
   "execution_count": 39,
   "metadata": {},
   "outputs": [],
   "source": [
    "m = 100\n",
    "\n",
    "prime = prime_generator(m)\n",
    "\n",
    "for l in range(1,12):\n",
    "    n=8*2**(l-1)\n",
    "\n",
    "    a = np.zeros((n,m))\n",
    "\n",
    "    for i in range(n):\n",
    "        for j in range(m):\n",
    "\n",
    "            f = 1.\n",
    "            r = 0.\n",
    "\n",
    "            ii = i+1\n",
    "            jj = prime[j]\n",
    "\n",
    "            while ii > 0:\n",
    "                f = f/jj\n",
    "                r = r + f*(ii%jj)\n",
    "                ii = ii/jj\n",
    "\n",
    "            a[i][j] = r\n",
    "\n",
    "    file = \"halton_points_l\"+str(l)+\".txt\"\n",
    "    np.savetxt(file, a)"
   ]
  },
  {
   "cell_type": "code",
   "execution_count": null,
   "metadata": {},
   "outputs": [],
   "source": []
  }
 ],
 "metadata": {
  "kernelspec": {
   "display_name": "Python 3",
   "language": "python",
   "name": "python3"
  },
  "language_info": {
   "codemirror_mode": {
    "name": "ipython",
    "version": 3
   },
   "file_extension": ".py",
   "mimetype": "text/x-python",
   "name": "python",
   "nbconvert_exporter": "python",
   "pygments_lexer": "ipython3",
   "version": "3.8.5"
  }
 },
 "nbformat": 4,
 "nbformat_minor": 4
}
