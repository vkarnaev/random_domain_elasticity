{
 "cells": [
  {
   "cell_type": "code",
   "execution_count": 1,
   "metadata": {},
   "outputs": [],
   "source": [
    "import numpy as np\n",
    "import math"
   ]
  },
  {
   "cell_type": "code",
   "execution_count": 4,
   "metadata": {},
   "outputs": [],
   "source": [
    "for l in range(0,1):\n",
    "    m = int(8*2**(l-1))\n",
    "    a = np.zeros(m)\n",
    "    for i in range(m): a[i] = m**(-1)\n",
    "    file = \"uniform_weights_l\"+str(l)+\".txt\"\n",
    "    np.savetxt(file, a, delimiter='/n')"
   ]
  },
  {
   "cell_type": "code",
   "execution_count": 5,
   "metadata": {},
   "outputs": [],
   "source": [
    "def prime_generator(m):\n",
    "    count = 2\n",
    "    \n",
    "    a = np.zeros((m))\n",
    "    \n",
    "    j=0\n",
    "    \n",
    "    while j<m:\n",
    "        isprime = True\n",
    "\n",
    "        for x in range(2, int(math.sqrt(count) + 1)):\n",
    "            if count % x == 0: \n",
    "                isprime = False\n",
    "                break\n",
    "\n",
    "        if isprime:\n",
    "            a[j] = count\n",
    "            j+=1\n",
    "\n",
    "        count += 1\n",
    "        \n",
    "    return a"
   ]
  },
  {
   "cell_type": "code",
   "execution_count": 6,
   "metadata": {},
   "outputs": [],
   "source": [
    "def halton_sequence(s,b):\n",
    "    \"\"\"Generator function for Halton sequence.\"\"\"\n",
    "    n, d = 0, 1\n",
    "    i = 0\n",
    "    while i<s:\n",
    "        x = d - n\n",
    "        if x == 1:\n",
    "            n = 1\n",
    "            d *= b\n",
    "        else:\n",
    "            y = d // b\n",
    "            while x <= y:\n",
    "                y //= b\n",
    "            n = (b + 1) * y - x\n",
    "        yield n / d\n",
    "        i+=1"
   ]
  },
  {
   "cell_type": "code",
   "execution_count": 8,
   "metadata": {},
   "outputs": [],
   "source": [
    "m = 100\n",
    "\n",
    "prime = prime_generator(m)\n",
    "\n",
    "for l in range(0,1):\n",
    "    \n",
    "    n=int(8*2**(l-1))\n",
    "    \n",
    "    a = np.zeros((n,m))\n",
    "    \n",
    "    j=0\n",
    "    \n",
    "    for j in range(m):\n",
    "        b = prime[j]\n",
    "        i=0\n",
    "        for value in halton_sequence(n,b):\n",
    "            a[i][j] = value\n",
    "            i+=1\n",
    "            \n",
    "    file = \"halton_points_l\"+str(l)+\".txt\"\n",
    "    np.savetxt(file, a)"
   ]
  },
  {
   "cell_type": "code",
   "execution_count": null,
   "metadata": {},
   "outputs": [],
   "source": []
  }
 ],
 "metadata": {
  "kernelspec": {
   "display_name": "Python 3",
   "language": "python",
   "name": "python3"
  },
  "language_info": {
   "codemirror_mode": {
    "name": "ipython",
    "version": 3
   },
   "file_extension": ".py",
   "mimetype": "text/x-python",
   "name": "python",
   "nbconvert_exporter": "python",
   "pygments_lexer": "ipython3",
   "version": "3.8.5"
  }
 },
 "nbformat": 4,
 "nbformat_minor": 4
}
