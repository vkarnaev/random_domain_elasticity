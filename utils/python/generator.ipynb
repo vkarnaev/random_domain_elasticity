{
 "cells": [
  {
   "cell_type": "code",
   "execution_count": null,
   "metadata": {},
   "outputs": [],
   "source": [
    "for l in range(1,12):\n",
    "    m = 8*2**(l-1)\n",
    "    a = np.zeros(m)\n",
    "    for i in range(m): a[i] = m**(-1)\n",
    "    file = \"uniform_weights_l\"+str(l)+\".txt\"\n",
    "    np.savetxt(file, a, delimiter='/n')"
   ]
  },
  {
   "cell_type": "code",
   "execution_count": null,
   "metadata": {},
   "outputs": [],
   "source": [
    "for l in range(1,12):\n",
    "\n",
    "    m = 100\n",
    "    n=8*2**(l-1)\n",
    "\n",
    "    a = np.zeros((n,m))\n",
    "\n",
    "    for i in range(n):\n",
    "        for j in range(m):\n",
    "\n",
    "            f = 1.\n",
    "            r = 0.\n",
    "\n",
    "            ii = i+1\n",
    "            jj = j+2\n",
    "\n",
    "            while ii > 0:\n",
    "                f = f/jj\n",
    "                r = r + f*(ii%jj)\n",
    "                ii = ii/jj\n",
    "\n",
    "            a[i][j] = r\n",
    "\n",
    "    file = \"halton_points_l\"+str(l)+\".txt\"\n",
    "    np.savetxt(file, a)"
   ]
  }
 ],
 "metadata": {
  "kernelspec": {
   "display_name": "Python 3",
   "language": "python",
   "name": "python3"
  },
  "language_info": {
   "codemirror_mode": {
    "name": "ipython",
    "version": 3
   },
   "file_extension": ".py",
   "mimetype": "text/x-python",
   "name": "python",
   "nbconvert_exporter": "python",
   "pygments_lexer": "ipython3",
   "version": "3.8.5"
  }
 },
 "nbformat": 4,
 "nbformat_minor": 4
}
