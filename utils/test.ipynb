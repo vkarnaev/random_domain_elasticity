{
 "cells": [
  {
   "cell_type": "code",
   "execution_count": 1,
   "metadata": {},
   "outputs": [],
   "source": [
    "import numpy as np\n",
    "import matplotlib.pyplot as plt\n",
    "import math"
   ]
  },
  {
   "cell_type": "code",
   "execution_count": 2,
   "metadata": {},
   "outputs": [],
   "source": [
    "points_2 = np.loadtxt(\"../utils/point_sobol2_m2.txt\")\n",
    "points_4 = np.loadtxt(\"../utils/point_sobol2_m4.txt\")\n",
    "points_6 = np.loadtxt(\"../utils/point_sobol2_m6.txt\")\n",
    "points_8 = np.loadtxt(\"../utils/point_sobol2_m8.txt\")\n",
    "points_10 = np.loadtxt(\"../utils/point_sobol2_m10.txt\")\n",
    "points_12 = np.loadtxt(\"../utils/point_sobol2_m12.txt\")\n",
    "points_14 = np.loadtxt(\"../utils/point_sobol2_m14.txt\")"
   ]
  },
  {
   "cell_type": "code",
   "execution_count": 93,
   "metadata": {},
   "outputs": [],
   "source": [
    "def test (x,s):\n",
    "    f = 1.0\n",
    "    #s = len(x)\n",
    "    for i in range(s):\n",
    "        f *= (1- 0.1*(x[i]-0.5)/((i+1)**2))\n",
    "        #f *= (1- (x[i]-0.5) * math.exp(-0.16*i))\n",
    "    return f"
   ]
  },
  {
   "cell_type": "code",
   "execution_count": 94,
   "metadata": {},
   "outputs": [],
   "source": [
    "def error(points, s):\n",
    "    exp = 0.0\n",
    "    err = 0\n",
    "    for i in range(len(points)):\n",
    "        exp += test(points[i,:], s)\n",
    "    exp /= len(points)\n",
    "    return exp - 1."
   ]
  },
  {
   "cell_type": "code",
   "execution_count": 101,
   "metadata": {},
   "outputs": [],
   "source": [
    "s=100\n",
    "err2 = error(points_2,s)\n",
    "err4 = error(points_4,s)\n",
    "err6 = error(points_6,s)\n",
    "err8 = error(points_8,s)\n",
    "err10 = error(points_10,s)\n",
    "err12 = error(points_12,s)\n",
    "err14 = error(points_14,s)\n",
    "err = np.array([err2, err4, err6, err8, err10, err12, err14])\n",
    "\n",
    "#print(err)\n",
    "\n",
    "num = np.array([2.**2, 2.**4, 2.**6, 2.**8, 2.**10, 2.**12, 2.**14])\n",
    "\n",
    "c=0.01\n",
    "\n",
    "rate_d1 =  c*num**(-1)\n",
    "rate_d2 =  10*c*num**(-2)"
   ]
  },
  {
   "cell_type": "code",
   "execution_count": 102,
   "metadata": {},
   "outputs": [
    {
     "data": {
      "image/png": "[encoded data removed]",
      "text/plain": [
       "<Figure size 432x288 with 1 Axes>"
      ]
     },
     "metadata": {
      "needs_background": "light"
     },
     "output_type": "display_data"
    }
   ],
   "source": [
    "fig, ax = plt.subplots()\n",
    "\n",
    "ax.loglog(num, err,'r.')\n",
    "ax.loglog(num, err,'r-')\n",
    "ax.loglog(num, rate_d1,'k-.',lw=0.7)\n",
    "ax.loglog(num, rate_d2,'k-.',lw=0.7)\n",
    "\n",
    "ax.grid()\n",
    "\n",
    "plt.show()"
   ]
  },
  {
   "cell_type": "code",
   "execution_count": null,
   "metadata": {},
   "outputs": [],
   "source": []
  },
  {
   "cell_type": "code",
   "execution_count": null,
   "metadata": {},
   "outputs": [],
   "source": []
  }
 ],
 "metadata": {
  "kernelspec": {
   "display_name": "Python 3",
   "language": "python",
   "name": "python3"
  },
  "language_info": {
   "codemirror_mode": {
    "name": "ipython",
    "version": 3
   },
   "file_extension": ".py",
   "mimetype": "text/x-python",
   "name": "python",
   "nbconvert_exporter": "python",
   "pygments_lexer": "ipython3",
   "version": "3.8.5"
  }
 },
 "nbformat": 4,
 "nbformat_minor": 4
}
