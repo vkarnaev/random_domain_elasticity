{
 "cells": [
  {
   "cell_type": "code",
   "execution_count": 1,
   "metadata": {},
   "outputs": [],
   "source": [
    "import numpy as np\n",
    "import matplotlib.pyplot as plt"
   ]
  },
  {
   "cell_type": "code",
   "execution_count": 2,
   "metadata": {},
   "outputs": [
    {
     "name": "stdout",
     "output_type": "stream",
     "text": [
      "[[3.61600e+03 5.18968e-02]\n",
      " [1.91200e+04 3.37330e-02]\n",
      " [5.08160e+04 2.60333e-02]\n",
      " [2.52800e+05 2.01415e-02]\n",
      " [7.77216e+05 1.25640e-02]\n",
      " [3.89888e+06 8.32513e-03]\n",
      " [1.20689e+07 5.42037e-03]\n",
      " [6.05184e+07 3.16468e-03]\n",
      " [1.90841e+08 1.64932e-03]]\n"
     ]
    }
   ],
   "source": [
    "err = np.loadtxt(\"../experiments/err.txt\", delimiter=' ')\n",
    "print(err)"
   ]
  },
  {
   "cell_type": "code",
   "execution_count": 7,
   "metadata": {},
   "outputs": [
    {
     "name": "stdout",
     "output_type": "stream",
     "text": [
      "[0.06515142 0.03739705 0.0269981  0.01581519 0.01087642 0.0063536\n",
      " 0.00435957 0.00254705 0.00173691]\n"
     ]
    }
   ],
   "source": [
    "cost = err[:,0]**(-1/3) \n",
    "print(cost)"
   ]
  },
  {
   "cell_type": "code",
   "execution_count": 8,
   "metadata": {},
   "outputs": [
    {
     "data": {
      "image/png": "[encoded data removed]",
      "text/plain": [
       "<Figure size 432x288 with 1 Axes>"
      ]
     },
     "metadata": {
      "needs_background": "light"
     },
     "output_type": "display_data"
    }
   ],
   "source": [
    "fig, ax = plt.subplots()\n",
    "ax.loglog(err[:,0], err[:,1],'b.')\n",
    "ax.loglog(err[:,0], err[:,1],'b',lw=0.7)\n",
    "ax.loglog(err[:,0], cost,'r',lw=0.7)\n",
    "\n",
    "ax.set(xlabel=\"Cost\", ylabel='Error')\n",
    "ax.grid()\n",
    "\n",
    "fig.savefig(\"../experiments/err.png\",dpi = 400)\n",
    "plt.show()"
   ]
  },
  {
   "cell_type": "code",
   "execution_count": null,
   "metadata": {},
   "outputs": [],
   "source": []
  },
  {
   "cell_type": "code",
   "execution_count": null,
   "metadata": {},
   "outputs": [],
   "source": []
  }
 ],
 "metadata": {
  "kernelspec": {
   "display_name": "Python 3",
   "language": "python",
   "name": "python3"
  },
  "language_info": {
   "codemirror_mode": {
    "name": "ipython",
    "version": 3
   },
   "file_extension": ".py",
   "mimetype": "text/x-python",
   "name": "python",
   "nbconvert_exporter": "python",
   "pygments_lexer": "ipython3",
   "version": "3.8.5"
  },
  "vscode": {
   "interpreter": {
    "hash": "aee8b7b246df8f9039afb4144a1f6fd8d2ca17a180786b69acc140d282b71a49"
   }
  }
 },
 "nbformat": 4,
 "nbformat_minor": 4
}
