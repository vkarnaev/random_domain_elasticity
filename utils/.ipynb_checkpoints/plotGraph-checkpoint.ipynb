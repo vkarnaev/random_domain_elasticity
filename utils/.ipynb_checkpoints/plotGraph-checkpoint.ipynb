{
 "cells": [
  {
   "cell_type": "code",
   "execution_count": 3,
   "metadata": {},
   "outputs": [],
   "source": [
    "import numpy as np\n",
    "import matplotlib.pyplot as plt"
   ]
  },
  {
   "cell_type": "code",
   "execution_count": 6,
   "metadata": {},
   "outputs": [
    {
     "name": "stdout",
     "output_type": "stream",
     "text": [
      "[[3.61600e+03 1.11081e-01]\n",
      " [1.91200e+04 8.47283e-02]\n",
      " [5.08160e+04 7.19178e-02]\n",
      " [2.74560e+05 5.40581e-02]\n",
      " [7.77216e+05 4.39170e-02]\n",
      " [4.28672e+06 3.27750e-02]\n",
      " [1.20689e+07 2.55949e-02]\n",
      " [6.78451e+07 1.71444e-02]\n",
      " [1.90841e+08 9.38220e-03]]\n"
     ]
    }
   ],
   "source": [
    "err = np.loadtxt(\"../experiments/err.txt\", delimiter=' ')\n",
    "print(err)"
   ]
  },
  {
   "cell_type": "code",
   "execution_count": 8,
   "metadata": {},
   "outputs": [
    {
     "data": {
      "image/png": "[encoded data removed]",
      "text/plain": [
       "<Figure size 432x288 with 1 Axes>"
      ]
     },
     "metadata": {
      "needs_background": "light"
     },
     "output_type": "display_data"
    }
   ],
   "source": [
    "fig, ax = plt.subplots()\n",
    "ax.plot(err[:,0], err[:,1],'b')\n",
    "\n",
    "ax.set(xlabel=\"Cost\", ylabel='Error')\n",
    "ax.grid()\n",
    "\n",
    "fig.savefig(\"err.png\",dpi = 400)\n",
    "plt.show()"
   ]
  },
  {
   "cell_type": "code",
   "execution_count": null,
   "metadata": {},
   "outputs": [],
   "source": []
  }
 ],
 "metadata": {
  "kernelspec": {
   "display_name": "Python 3",
   "language": "python",
   "name": "python3"
  },
  "language_info": {
   "codemirror_mode": {
    "name": "ipython",
    "version": 3
   },
   "file_extension": ".py",
   "mimetype": "text/x-python",
   "name": "python",
   "nbconvert_exporter": "python",
   "pygments_lexer": "ipython3",
   "version": "3.8.5"
  }
 },
 "nbformat": 4,
 "nbformat_minor": 4
}
